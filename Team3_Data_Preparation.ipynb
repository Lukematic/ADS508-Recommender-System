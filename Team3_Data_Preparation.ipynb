{
 "cells": [
  {
   "cell_type": "markdown",
   "metadata": {},
   "source": [
    "# Team 3 - Final Project Data Processing"
   ]
  },
  {
   "cell_type": "code",
   "execution_count": 2,
   "metadata": {},
   "outputs": [
    {
     "name": "stdout",
     "output_type": "stream",
     "text": [
      "/opt/conda/lib/python3.7/site-packages/secretstorage/dhcrypto.py:16: CryptographyDeprecationWarning: int_from_bytes is deprecated, use int.from_bytes instead\n",
      "  from cryptography.utils import int_from_bytes\n",
      "/opt/conda/lib/python3.7/site-packages/secretstorage/util.py:25: CryptographyDeprecationWarning: int_from_bytes is deprecated, use int.from_bytes instead\n",
      "  from cryptography.utils import int_from_bytes\n",
      "Requirement already satisfied: pyathena in /opt/conda/lib/python3.7/site-packages (2.5.1)\n",
      "Requirement already satisfied: tenacity>=4.1.0 in /opt/conda/lib/python3.7/site-packages (from pyathena) (8.0.1)\n",
      "Requirement already satisfied: boto3>=1.4.4 in /opt/conda/lib/python3.7/site-packages (from pyathena) (1.20.23)\n",
      "Requirement already satisfied: botocore>=1.5.52 in /opt/conda/lib/python3.7/site-packages (from pyathena) (1.23.23)\n",
      "Requirement already satisfied: jmespath<1.0.0,>=0.7.1 in /opt/conda/lib/python3.7/site-packages (from boto3>=1.4.4->pyathena) (0.10.0)\n",
      "Requirement already satisfied: s3transfer<0.6.0,>=0.5.0 in /opt/conda/lib/python3.7/site-packages (from boto3>=1.4.4->pyathena) (0.5.0)\n",
      "Requirement already satisfied: urllib3<1.27,>=1.25.4 in /opt/conda/lib/python3.7/site-packages (from botocore>=1.5.52->pyathena) (1.26.7)\n",
      "Requirement already satisfied: python-dateutil<3.0.0,>=2.1 in /opt/conda/lib/python3.7/site-packages (from botocore>=1.5.52->pyathena) (2.8.1)\n",
      "Requirement already satisfied: six>=1.5 in /opt/conda/lib/python3.7/site-packages (from python-dateutil<3.0.0,>=2.1->botocore>=1.5.52->pyathena) (1.14.0)\n",
      "\u001b[33mWARNING: Running pip as the 'root' user can result in broken permissions and conflicting behaviour with the system package manager. It is recommended to use a virtual environment instead: https://pip.pypa.io/warnings/venv\u001b[0m\n",
      "\u001b[33mWARNING: You are using pip version 21.3.1; however, version 22.0.4 is available.\n",
      "You should consider upgrading via the '/opt/conda/bin/python -m pip install --upgrade pip' command.\u001b[0m\n"
     ]
    }
   ],
   "source": [
    "!pip install pyathena"
   ]
  },
  {
   "cell_type": "code",
   "execution_count": 3,
   "metadata": {},
   "outputs": [],
   "source": [
    "import boto3\n",
    "import sagemaker\n",
    "import pyathena as pa\n",
    "from pyathena.pandas.cursor import PandasCursor\n",
    "from datetime import datetime\n",
    "\n",
    "from sklearn.preprocessing import MultiLabelBinarizer\n",
    "from sklearn.preprocessing import OneHotEncoder\n",
    "\n",
    "import pandas as pd\n",
    "import numpy as np\n",
    "import matplotlib.pyplot as plt\n",
    "import seaborn as sns"
   ]
  },
  {
   "cell_type": "code",
   "execution_count": 4,
   "metadata": {},
   "outputs": [],
   "source": [
    "sess = sagemaker.Session()\n",
    "bucket = sess.default_bucket()\n",
    "role = sagemaker.get_execution_role()\n",
    "region = boto3.Session().region_name"
   ]
  },
  {
   "cell_type": "code",
   "execution_count": 5,
   "metadata": {},
   "outputs": [],
   "source": [
    "# Athena modeling bucket\n",
    "s3_modeling_dir = 's3://ads508team3/modeling/'\n",
    "# Athena staging bucket\n",
    "s3_staging_dir = 's3://ads508team3/athena-staging/'"
   ]
  },
  {
   "cell_type": "code",
   "execution_count": 6,
   "metadata": {},
   "outputs": [],
   "source": [
    "# Create Connection\n",
    "conn = pa.connect(region_name=region, s3_staging_dir=s3_staging_dir)"
   ]
  },
  {
   "cell_type": "code",
   "execution_count": 7,
   "metadata": {},
   "outputs": [],
   "source": [
    "dbname = 'myanimelist'\n",
    "table_list = ['animelist', 'anime', 'synopsis', 'ratings', 'watching_status']"
   ]
  },
  {
   "cell_type": "markdown",
   "metadata": {},
   "source": [
    "### Construct DataFrames\n",
    "\n",
    "**Bypassing the default pyathena cursor and using a more efficient PandasCursor**"
   ]
  },
  {
   "cell_type": "code",
   "execution_count": 8,
   "metadata": {},
   "outputs": [],
   "source": [
    "cursor = pa.connect(s3_staging_dir=s3_staging_dir, region_name='us-east-1',cursor_class=PandasCursor).cursor()"
   ]
  },
  {
   "cell_type": "code",
   "execution_count": 9,
   "metadata": {},
   "outputs": [],
   "source": [
    "anime_list = cursor.execute('SELECT * FROM %s.%s' % (dbname, 'animelist')).as_pandas()\n",
    "anime = cursor.execute('SELECT * FROM %s.%s' % (dbname, 'anime')).as_pandas()\n",
    "#synopsis = cursor.execute('SELECT * FROM %s.%s' % (dbname, 'synopsis')).as_pandas()\n",
    "#ratings = cursor.execute('SELECT * FROM %s.%s' % (dbname, 'ratings')).as_pandas()\n",
    "watching_status = cursor.execute('SELECT * FROM %s.%s' % (dbname, 'watching_status')).as_pandas()"
   ]
  },
  {
   "cell_type": "markdown",
   "metadata": {},
   "source": [
    "# Data Preparation"
   ]
  },
  {
   "cell_type": "markdown",
   "metadata": {},
   "source": [
    "### Fix anime scores, replace 'Unknown' values with np.nan and then mean impute"
   ]
  },
  {
   "cell_type": "code",
   "execution_count": 10,
   "metadata": {},
   "outputs": [
    {
     "data": {
      "text/plain": [
       "mal_id            Int64\n",
       "name             object\n",
       "score            object\n",
       "genres           object\n",
       "english_name     object\n",
       "japanese_name    object\n",
       "type             object\n",
       "episodes         object\n",
       "aired            object\n",
       "premiered        object\n",
       "producers        object\n",
       "licensors        object\n",
       "studios          object\n",
       "source           object\n",
       "duration         object\n",
       "rating           object\n",
       "ranked           object\n",
       "popularity        Int64\n",
       "members           Int64\n",
       "favorites         Int64\n",
       "watching          Int64\n",
       "completed         Int64\n",
       "on_hold           Int64\n",
       "dropped           Int64\n",
       "plan_to_watch    object\n",
       "score_10         object\n",
       "score_9          object\n",
       "score_8          object\n",
       "score_7          object\n",
       "score_6          object\n",
       "score_5          object\n",
       "score_4          object\n",
       "score_3          object\n",
       "score_2          object\n",
       "score_1          object\n",
       "dtype: object"
      ]
     },
     "execution_count": 10,
     "metadata": {},
     "output_type": "execute_result"
    }
   ],
   "source": [
    "anime.dtypes"
   ]
  },
  {
   "cell_type": "code",
   "execution_count": 12,
   "metadata": {},
   "outputs": [],
   "source": [
    "# Replace Unknown Values\n",
    "anime['score'] = anime['score'].replace({'Unknown': np.nan})\n",
    "anime['score'] = anime['score'].astype('float')"
   ]
  },
  {
   "cell_type": "code",
   "execution_count": 15,
   "metadata": {},
   "outputs": [
    {
     "data": {
      "text/plain": [
       "dtype('float64')"
      ]
     },
     "execution_count": 15,
     "metadata": {},
     "output_type": "execute_result"
    }
   ],
   "source": [
    "anime['score'].dtypes"
   ]
  },
  {
   "cell_type": "code",
   "execution_count": 16,
   "metadata": {},
   "outputs": [
    {
     "data": {
      "text/plain": [
       "5141"
      ]
     },
     "execution_count": 16,
     "metadata": {},
     "output_type": "execute_result"
    }
   ],
   "source": [
    "anime['score'].isna().sum()"
   ]
  },
  {
   "cell_type": "code",
   "execution_count": 17,
   "metadata": {},
   "outputs": [],
   "source": [
    "# We may have to change this imputation method if it impacts the model too much\n",
    "anime['score'] = anime['score'].fillna(anime['score'].mean())"
   ]
  },
  {
   "cell_type": "code",
   "execution_count": 18,
   "metadata": {},
   "outputs": [
    {
     "data": {
      "text/plain": [
       "0        6.120000\n",
       "1        6.970000\n",
       "2        5.960000\n",
       "3        5.740000\n",
       "4        6.010000\n",
       "           ...   \n",
       "17557    6.509999\n",
       "17558    6.509999\n",
       "17559    6.509999\n",
       "17560    6.509999\n",
       "17561    6.509999\n",
       "Name: score, Length: 17562, dtype: float64"
      ]
     },
     "execution_count": 18,
     "metadata": {},
     "output_type": "execute_result"
    }
   ],
   "source": [
    "anime['score']"
   ]
  },
  {
   "cell_type": "markdown",
   "metadata": {},
   "source": [
    "### Feature Days Since Aired\n",
    "Pull the first date from Aired, convert to datetime and get timedelta in days"
   ]
  },
  {
   "cell_type": "code",
   "execution_count": 19,
   "metadata": {},
   "outputs": [],
   "source": [
    "anime['days_since_aired'] = anime['aired'].str.split(' to ', expand=True).iloc[:, 0]"
   ]
  },
  {
   "cell_type": "code",
   "execution_count": 20,
   "metadata": {},
   "outputs": [],
   "source": [
    "# Remove spaces left and right\n",
    "anime['days_since_aired'] = anime['days_since_aired'].str.strip()"
   ]
  },
  {
   "cell_type": "code",
   "execution_count": 21,
   "metadata": {},
   "outputs": [
    {
     "data": {
      "text/plain": [
       "0        Jan 11, 2002\n",
       "1        Jul 25, 1995\n",
       "2         Apr 7, 1999\n",
       "3        Dec 21, 1989\n",
       "4        Aug 21, 1999\n",
       "             ...     \n",
       "17557     Apr 4, 2021\n",
       "17558     Jan 1, 2021\n",
       "17559     Jul 1, 2021\n",
       "17560         Unknown\n",
       "17561     Jul 1, 2021\n",
       "Name: days_since_aired, Length: 17562, dtype: object"
      ]
     },
     "execution_count": 21,
     "metadata": {},
     "output_type": "execute_result"
    }
   ],
   "source": [
    "# Fix date format issues\n",
    "anime['days_since_aired'] = anime['days_since_aired'].str.replace('^\\w{3}, \\d{4}', lambda x: x[0][0:3] + ' 1, ' + x[0][5:9], regex=True)\n",
    "anime['days_since_aired'] = anime['days_since_aired'].str.replace('^\\d{4}', lambda x: 'Jan 1, ' + x[0], regex=True)\n",
    "anime['days_since_aired']"
   ]
  },
  {
   "cell_type": "code",
   "execution_count": 22,
   "metadata": {},
   "outputs": [
    {
     "data": {
      "text/plain": [
       "0        Jan 11, 2002\n",
       "1        Jul 25, 1995\n",
       "2         Apr 7, 1999\n",
       "3        Dec 21, 1989\n",
       "4        Aug 21, 1999\n",
       "             ...     \n",
       "17557     Apr 4, 2021\n",
       "17558     Jan 1, 2021\n",
       "17559     Jul 1, 2021\n",
       "17560             NaN\n",
       "17561     Jul 1, 2021\n",
       "Name: days_since_aired, Length: 17562, dtype: object"
      ]
     },
     "execution_count": 22,
     "metadata": {},
     "output_type": "execute_result"
    }
   ],
   "source": [
    "anime['days_since_aired'] = anime['days_since_aired'].replace('Unknown', np.nan)\n",
    "anime['days_since_aired']"
   ]
  },
  {
   "cell_type": "code",
   "execution_count": 23,
   "metadata": {},
   "outputs": [],
   "source": [
    "anime['days_since_aired'] = pd.to_datetime(anime['days_since_aired'], format='%b %d, %Y')"
   ]
  },
  {
   "cell_type": "code",
   "execution_count": 24,
   "metadata": {},
   "outputs": [
    {
     "name": "stderr",
     "output_type": "stream",
     "text": [
      "/opt/conda/lib/python3.7/site-packages/ipykernel_launcher.py:1: FutureWarning: The pandas.datetime class is deprecated and will be removed from pandas in a future version. Import from datetime module instead.\n",
      "  \"\"\"Entry point for launching an IPython kernel.\n"
     ]
    }
   ],
   "source": [
    "anime['days_since_aired'] = anime['days_since_aired'].fillna(pd.datetime.now())"
   ]
  },
  {
   "cell_type": "code",
   "execution_count": 25,
   "metadata": {},
   "outputs": [
    {
     "data": {
      "text/plain": [
       "0       2002-01-11 00:00:00.000000\n",
       "1       1995-07-25 00:00:00.000000\n",
       "2       1999-04-07 00:00:00.000000\n",
       "3       1989-12-21 00:00:00.000000\n",
       "4       1999-08-21 00:00:00.000000\n",
       "                   ...            \n",
       "17557   2021-04-04 00:00:00.000000\n",
       "17558   2021-01-01 00:00:00.000000\n",
       "17559   2021-07-01 00:00:00.000000\n",
       "17560   2022-03-31 18:19:05.994792\n",
       "17561   2021-07-01 00:00:00.000000\n",
       "Name: days_since_aired, Length: 17562, dtype: datetime64[ns]"
      ]
     },
     "execution_count": 25,
     "metadata": {},
     "output_type": "execute_result"
    }
   ],
   "source": [
    "anime['days_since_aired']"
   ]
  },
  {
   "cell_type": "markdown",
   "metadata": {},
   "source": [
    "### Get Time Delta in days"
   ]
  },
  {
   "cell_type": "code",
   "execution_count": 26,
   "metadata": {},
   "outputs": [
    {
     "name": "stderr",
     "output_type": "stream",
     "text": [
      "/opt/conda/lib/python3.7/site-packages/ipykernel_launcher.py:1: FutureWarning: The pandas.datetime class is deprecated and will be removed from pandas in a future version. Import from datetime module instead.\n",
      "  \"\"\"Entry point for launching an IPython kernel.\n"
     ]
    }
   ],
   "source": [
    "anime['days_since_aired'] = (pd.datetime.now() - anime['days_since_aired']).dt.days"
   ]
  },
  {
   "cell_type": "code",
   "execution_count": 27,
   "metadata": {},
   "outputs": [
    {
     "data": {
      "text/plain": [
       "0         7384\n",
       "1         9746\n",
       "2         8394\n",
       "3        11788\n",
       "4         8258\n",
       "         ...  \n",
       "17557      361\n",
       "17558      454\n",
       "17559      273\n",
       "17560        0\n",
       "17561      273\n",
       "Name: days_since_aired, Length: 17562, dtype: int64"
      ]
     },
     "execution_count": 27,
     "metadata": {},
     "output_type": "execute_result"
    }
   ],
   "source": [
    "anime['days_since_aired']"
   ]
  },
  {
   "cell_type": "markdown",
   "metadata": {},
   "source": [
    "# One Hot Encode Genres"
   ]
  },
  {
   "cell_type": "code",
   "execution_count": null,
   "metadata": {},
   "outputs": [],
   "source": []
  }
 ],
 "metadata": {
  "instance_type": "ml.m5.large",
  "kernelspec": {
   "display_name": "Python 3 (Data Science)",
   "language": "python",
   "name": "python3__SAGEMAKER_INTERNAL__arn:aws:sagemaker:us-east-1:081325390199:image/datascience-1.0"
  },
  "language_info": {
   "codemirror_mode": {
    "name": "ipython",
    "version": 3
   },
   "file_extension": ".py",
   "mimetype": "text/x-python",
   "name": "python",
   "nbconvert_exporter": "python",
   "pygments_lexer": "ipython3",
   "version": "3.7.10"
  }
 },
 "nbformat": 4,
 "nbformat_minor": 4
}
